{
 "cells": [
  {
   "cell_type": "markdown",
   "id": "7e9e560e",
   "metadata": {},
   "source": [
    "# Aggregate Stock Sentiment & Market Direction"
   ]
  },
  {
   "cell_type": "markdown",
   "id": "be663ea0",
   "metadata": {},
   "source": [
    "Does aggregate sentiment from tweets predict overall market direction (eg. SPY returns)?"
   ]
  },
  {
   "cell_type": "code",
   "execution_count": null,
   "id": "47d03068",
   "metadata": {},
   "outputs": [],
   "source": [
    "import pandas as pd"
   ]
  },
  {
   "cell_type": "markdown",
   "id": "43e9453c",
   "metadata": {},
   "source": []
  }
 ],
 "metadata": {
  "kernelspec": {
   "display_name": "venv",
   "language": "python",
   "name": "python3"
  },
  "language_info": {
   "name": "python",
   "version": "3.13.0"
  }
 },
 "nbformat": 4,
 "nbformat_minor": 5
}
