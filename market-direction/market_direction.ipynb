{
 "cells": [
  {
   "cell_type": "markdown",
   "id": "7e9e560e",
   "metadata": {},
   "source": [
    "# Aggregate Stock Sentiment & Market Direction"
   ]
  },
  {
   "cell_type": "markdown",
   "id": "be663ea0",
   "metadata": {},
   "source": [
    "Does aggregate sentiment from tweets predict overall market direction (eg. SPY returns)?"
   ]
  },
  {
   "cell_type": "code",
   "execution_count": 1,
   "id": "47d03068",
   "metadata": {},
   "outputs": [],
   "source": [
    "import pandas as pd\n",
    "import numpy as np"
   ]
  },
  {
   "cell_type": "markdown",
   "id": "de70252b",
   "metadata": {},
   "source": [
    "### Getting data for sentiment and SPY movement"
   ]
  },
  {
   "cell_type": "markdown",
   "id": "43e9453c",
   "metadata": {},
   "source": [
    "Aggregate Daily Sentiment over all tweets and stocks."
   ]
  },
  {
   "cell_type": "code",
   "execution_count": 2,
   "id": "4ffffbdb",
   "metadata": {},
   "outputs": [],
   "source": [
    "tweets = pd.read_csv('../tweets-data/stock_tweets_out.csv', parse_dates=['Date'])\n",
    "tweets['Date'] = tweets['Date'].dt.date # only interested in specific day\n",
    "tweets['Sentiment'] = tweets['positive'] - tweets['negative'] # compute scalar sentiment value per tweet\n",
    "\n",
    "# compute overall daily sentiment\n",
    "daily_sentiment = tweets.groupby('Date')['Sentiment'].mean().reset_index()\n",
    "\n",
    "# rolling averages\n",
    "daily_sentiment['3-day'] = daily_sentiment['Sentiment'].rolling(3).mean()\n",
    "daily_sentiment['5-day'] = daily_sentiment['Sentiment'].rolling(5).mean()"
   ]
  },
  {
   "cell_type": "code",
   "execution_count": 3,
   "id": "2f82971d",
   "metadata": {},
   "outputs": [
    {
     "name": "stdout",
     "output_type": "stream",
     "text": [
      "count    5910.000000\n",
      "mean       13.670558\n",
      "std        29.442641\n",
      "min         1.000000\n",
      "25%         2.000000\n",
      "50%         4.000000\n",
      "75%        11.000000\n",
      "max       462.000000\n",
      "Name: TweetVolume, dtype: float64\n"
     ]
    }
   ],
   "source": [
    "counts = tweets.groupby(['Date', 'Stock Name']).size().reset_index(name='TweetVolume')\n",
    "print(counts['TweetVolume'].describe())"
   ]
  },
  {
   "cell_type": "code",
   "execution_count": 4,
   "id": "ee851a4d",
   "metadata": {},
   "outputs": [
    {
     "data": {
      "text/html": [
       "<div>\n",
       "<style scoped>\n",
       "    .dataframe tbody tr th:only-of-type {\n",
       "        vertical-align: middle;\n",
       "    }\n",
       "\n",
       "    .dataframe tbody tr th {\n",
       "        vertical-align: top;\n",
       "    }\n",
       "\n",
       "    .dataframe thead th {\n",
       "        text-align: right;\n",
       "    }\n",
       "</style>\n",
       "<table border=\"1\" class=\"dataframe\">\n",
       "  <thead>\n",
       "    <tr style=\"text-align: right;\">\n",
       "      <th></th>\n",
       "      <th>Date</th>\n",
       "      <th>Sentiment</th>\n",
       "      <th>3-day</th>\n",
       "      <th>5-day</th>\n",
       "    </tr>\n",
       "  </thead>\n",
       "  <tbody>\n",
       "    <tr>\n",
       "      <th>0</th>\n",
       "      <td>2021-09-30</td>\n",
       "      <td>0.310846</td>\n",
       "      <td>NaN</td>\n",
       "      <td>NaN</td>\n",
       "    </tr>\n",
       "    <tr>\n",
       "      <th>1</th>\n",
       "      <td>2021-10-01</td>\n",
       "      <td>0.310880</td>\n",
       "      <td>NaN</td>\n",
       "      <td>NaN</td>\n",
       "    </tr>\n",
       "    <tr>\n",
       "      <th>2</th>\n",
       "      <td>2021-10-02</td>\n",
       "      <td>0.419374</td>\n",
       "      <td>0.347033</td>\n",
       "      <td>NaN</td>\n",
       "    </tr>\n",
       "    <tr>\n",
       "      <th>3</th>\n",
       "      <td>2021-10-03</td>\n",
       "      <td>0.334475</td>\n",
       "      <td>0.354910</td>\n",
       "      <td>NaN</td>\n",
       "    </tr>\n",
       "    <tr>\n",
       "      <th>4</th>\n",
       "      <td>2021-10-04</td>\n",
       "      <td>0.019805</td>\n",
       "      <td>0.257885</td>\n",
       "      <td>0.279076</td>\n",
       "    </tr>\n",
       "  </tbody>\n",
       "</table>\n",
       "</div>"
      ],
      "text/plain": [
       "         Date  Sentiment     3-day     5-day\n",
       "0  2021-09-30   0.310846       NaN       NaN\n",
       "1  2021-10-01   0.310880       NaN       NaN\n",
       "2  2021-10-02   0.419374  0.347033       NaN\n",
       "3  2021-10-03   0.334475  0.354910       NaN\n",
       "4  2021-10-04   0.019805  0.257885  0.279076"
      ]
     },
     "execution_count": 4,
     "metadata": {},
     "output_type": "execute_result"
    }
   ],
   "source": [
    "daily_sentiment.head()"
   ]
  },
  {
   "cell_type": "code",
   "execution_count": 5,
   "id": "ac7d5b8d",
   "metadata": {},
   "outputs": [
    {
     "name": "stdout",
     "output_type": "stream",
     "text": [
      "         Date  Sentiment  SimpleAvg  Difference\n",
      "0  2021-09-30   0.310846   0.310846         0.0\n",
      "1  2021-10-01   0.310880   0.310880         0.0\n",
      "2  2021-10-02   0.419374   0.419374         0.0\n",
      "3  2021-10-03   0.334475   0.334475         0.0\n",
      "4  2021-10-04   0.019805   0.019805         0.0\n",
      "5  2021-10-05   0.108379   0.108379         0.0\n",
      "6  2021-10-06   0.234439   0.234439         0.0\n",
      "7  2021-10-07   0.305370   0.305370         0.0\n",
      "8  2021-10-08   0.250751   0.250751         0.0\n",
      "9  2021-10-09   0.236714   0.236714         0.0\n"
     ]
    }
   ],
   "source": [
    "# Debug: check how different volume-weighted sentiment is from unweighted\n",
    "# First compute unweighted just for comparison\n",
    "simple_avg = tweets.groupby('Date')['Sentiment'].mean().reset_index(name='SimpleAvg')\n",
    "\n",
    "# Compare\n",
    "comparison = pd.merge(daily_sentiment, simple_avg, on='Date')\n",
    "comparison['Difference'] = comparison['Sentiment'] - comparison['SimpleAvg']\n",
    "print(comparison[['Date', 'Sentiment', 'SimpleAvg', 'Difference']].head(10))\n"
   ]
  },
  {
   "cell_type": "markdown",
   "id": "1b985493",
   "metadata": {},
   "source": [
    "Prepare SPY return & direction"
   ]
  },
  {
   "cell_type": "code",
   "execution_count": 6,
   "id": "44573a71",
   "metadata": {},
   "outputs": [],
   "source": [
    "spy = pd.read_csv('../stock-data/SPY.csv', skiprows=[1, 2])\n",
    "spy.columns = ['Date', 'Close', 'High', 'Low', 'Open', 'Volume']\n",
    "spy['Date'] = pd.to_datetime(spy['Date']).dt.date\n",
    "\n",
    "spy['Return'] = spy['Close'].pct_change() # Compute returns\n",
    "spy['Direction'] = (spy['Return'] > 0).astype(int) # Create label for binary direction\n",
    "\n",
    "# Drop first row, because return will be NaN\n",
    "spy = spy.dropna(subset=['Return'])\n",
    "\n",
    "spy = spy[['Date', 'Return', 'Direction']]"
   ]
  },
  {
   "cell_type": "code",
   "execution_count": 7,
   "id": "cac5e69b",
   "metadata": {},
   "outputs": [
    {
     "data": {
      "text/html": [
       "<div>\n",
       "<style scoped>\n",
       "    .dataframe tbody tr th:only-of-type {\n",
       "        vertical-align: middle;\n",
       "    }\n",
       "\n",
       "    .dataframe tbody tr th {\n",
       "        vertical-align: top;\n",
       "    }\n",
       "\n",
       "    .dataframe thead th {\n",
       "        text-align: right;\n",
       "    }\n",
       "</style>\n",
       "<table border=\"1\" class=\"dataframe\">\n",
       "  <thead>\n",
       "    <tr style=\"text-align: right;\">\n",
       "      <th></th>\n",
       "      <th>Date</th>\n",
       "      <th>Return</th>\n",
       "      <th>Direction</th>\n",
       "    </tr>\n",
       "  </thead>\n",
       "  <tbody>\n",
       "    <tr>\n",
       "      <th>1</th>\n",
       "      <td>2021-10-01</td>\n",
       "      <td>0.011884</td>\n",
       "      <td>1</td>\n",
       "    </tr>\n",
       "    <tr>\n",
       "      <th>2</th>\n",
       "      <td>2021-10-04</td>\n",
       "      <td>-0.012896</td>\n",
       "      <td>0</td>\n",
       "    </tr>\n",
       "    <tr>\n",
       "      <th>3</th>\n",
       "      <td>2021-10-05</td>\n",
       "      <td>0.010405</td>\n",
       "      <td>1</td>\n",
       "    </tr>\n",
       "    <tr>\n",
       "      <th>4</th>\n",
       "      <td>2021-10-06</td>\n",
       "      <td>0.004156</td>\n",
       "      <td>1</td>\n",
       "    </tr>\n",
       "    <tr>\n",
       "      <th>5</th>\n",
       "      <td>2021-10-07</td>\n",
       "      <td>0.008646</td>\n",
       "      <td>1</td>\n",
       "    </tr>\n",
       "    <tr>\n",
       "      <th>...</th>\n",
       "      <td>...</td>\n",
       "      <td>...</td>\n",
       "      <td>...</td>\n",
       "    </tr>\n",
       "    <tr>\n",
       "      <th>247</th>\n",
       "      <td>2022-09-23</td>\n",
       "      <td>-0.016755</td>\n",
       "      <td>0</td>\n",
       "    </tr>\n",
       "    <tr>\n",
       "      <th>248</th>\n",
       "      <td>2022-09-26</td>\n",
       "      <td>-0.009893</td>\n",
       "      <td>0</td>\n",
       "    </tr>\n",
       "    <tr>\n",
       "      <th>249</th>\n",
       "      <td>2022-09-27</td>\n",
       "      <td>-0.002553</td>\n",
       "      <td>0</td>\n",
       "    </tr>\n",
       "    <tr>\n",
       "      <th>250</th>\n",
       "      <td>2022-09-28</td>\n",
       "      <td>0.019676</td>\n",
       "      <td>1</td>\n",
       "    </tr>\n",
       "    <tr>\n",
       "      <th>251</th>\n",
       "      <td>2022-09-29</td>\n",
       "      <td>-0.020889</td>\n",
       "      <td>0</td>\n",
       "    </tr>\n",
       "  </tbody>\n",
       "</table>\n",
       "<p>251 rows × 3 columns</p>\n",
       "</div>"
      ],
      "text/plain": [
       "           Date    Return  Direction\n",
       "1    2021-10-01  0.011884          1\n",
       "2    2021-10-04 -0.012896          0\n",
       "3    2021-10-05  0.010405          1\n",
       "4    2021-10-06  0.004156          1\n",
       "5    2021-10-07  0.008646          1\n",
       "..          ...       ...        ...\n",
       "247  2022-09-23 -0.016755          0\n",
       "248  2022-09-26 -0.009893          0\n",
       "249  2022-09-27 -0.002553          0\n",
       "250  2022-09-28  0.019676          1\n",
       "251  2022-09-29 -0.020889          0\n",
       "\n",
       "[251 rows x 3 columns]"
      ]
     },
     "execution_count": 7,
     "metadata": {},
     "output_type": "execute_result"
    }
   ],
   "source": [
    "spy"
   ]
  },
  {
   "cell_type": "markdown",
   "id": "060cc800",
   "metadata": {},
   "source": [
    "Merge sentiment with SPY data"
   ]
  },
  {
   "cell_type": "code",
   "execution_count": 8,
   "id": "be803b5f",
   "metadata": {},
   "outputs": [],
   "source": [
    "merged = pd.merge(spy, daily_sentiment, on='Date', how='inner')"
   ]
  },
  {
   "cell_type": "code",
   "execution_count": 9,
   "id": "30a94b52",
   "metadata": {},
   "outputs": [
    {
     "data": {
      "text/html": [
       "<div>\n",
       "<style scoped>\n",
       "    .dataframe tbody tr th:only-of-type {\n",
       "        vertical-align: middle;\n",
       "    }\n",
       "\n",
       "    .dataframe tbody tr th {\n",
       "        vertical-align: top;\n",
       "    }\n",
       "\n",
       "    .dataframe thead th {\n",
       "        text-align: right;\n",
       "    }\n",
       "</style>\n",
       "<table border=\"1\" class=\"dataframe\">\n",
       "  <thead>\n",
       "    <tr style=\"text-align: right;\">\n",
       "      <th></th>\n",
       "      <th>Date</th>\n",
       "      <th>Return</th>\n",
       "      <th>Direction</th>\n",
       "      <th>Sentiment</th>\n",
       "      <th>3-day</th>\n",
       "      <th>5-day</th>\n",
       "    </tr>\n",
       "  </thead>\n",
       "  <tbody>\n",
       "    <tr>\n",
       "      <th>0</th>\n",
       "      <td>2021-10-01</td>\n",
       "      <td>0.011884</td>\n",
       "      <td>1</td>\n",
       "      <td>0.310880</td>\n",
       "      <td>NaN</td>\n",
       "      <td>NaN</td>\n",
       "    </tr>\n",
       "    <tr>\n",
       "      <th>1</th>\n",
       "      <td>2021-10-04</td>\n",
       "      <td>-0.012896</td>\n",
       "      <td>0</td>\n",
       "      <td>0.019805</td>\n",
       "      <td>0.257885</td>\n",
       "      <td>0.279076</td>\n",
       "    </tr>\n",
       "    <tr>\n",
       "      <th>2</th>\n",
       "      <td>2021-10-05</td>\n",
       "      <td>0.010405</td>\n",
       "      <td>1</td>\n",
       "      <td>0.108379</td>\n",
       "      <td>0.154220</td>\n",
       "      <td>0.238583</td>\n",
       "    </tr>\n",
       "    <tr>\n",
       "      <th>3</th>\n",
       "      <td>2021-10-06</td>\n",
       "      <td>0.004156</td>\n",
       "      <td>1</td>\n",
       "      <td>0.234439</td>\n",
       "      <td>0.120874</td>\n",
       "      <td>0.223295</td>\n",
       "    </tr>\n",
       "    <tr>\n",
       "      <th>4</th>\n",
       "      <td>2021-10-07</td>\n",
       "      <td>0.008646</td>\n",
       "      <td>1</td>\n",
       "      <td>0.305370</td>\n",
       "      <td>0.216062</td>\n",
       "      <td>0.200494</td>\n",
       "    </tr>\n",
       "    <tr>\n",
       "      <th>...</th>\n",
       "      <td>...</td>\n",
       "      <td>...</td>\n",
       "      <td>...</td>\n",
       "      <td>...</td>\n",
       "      <td>...</td>\n",
       "      <td>...</td>\n",
       "    </tr>\n",
       "    <tr>\n",
       "      <th>246</th>\n",
       "      <td>2022-09-23</td>\n",
       "      <td>-0.016755</td>\n",
       "      <td>0</td>\n",
       "      <td>0.239017</td>\n",
       "      <td>0.224488</td>\n",
       "      <td>0.220510</td>\n",
       "    </tr>\n",
       "    <tr>\n",
       "      <th>247</th>\n",
       "      <td>2022-09-26</td>\n",
       "      <td>-0.009893</td>\n",
       "      <td>0</td>\n",
       "      <td>0.204958</td>\n",
       "      <td>0.248042</td>\n",
       "      <td>0.243523</td>\n",
       "    </tr>\n",
       "    <tr>\n",
       "      <th>248</th>\n",
       "      <td>2022-09-27</td>\n",
       "      <td>-0.002553</td>\n",
       "      <td>0</td>\n",
       "      <td>0.243141</td>\n",
       "      <td>0.214644</td>\n",
       "      <td>0.245257</td>\n",
       "    </tr>\n",
       "    <tr>\n",
       "      <th>249</th>\n",
       "      <td>2022-09-28</td>\n",
       "      <td>0.019676</td>\n",
       "      <td>1</td>\n",
       "      <td>0.215326</td>\n",
       "      <td>0.221142</td>\n",
       "      <td>0.240519</td>\n",
       "    </tr>\n",
       "    <tr>\n",
       "      <th>250</th>\n",
       "      <td>2022-09-29</td>\n",
       "      <td>-0.020889</td>\n",
       "      <td>0</td>\n",
       "      <td>0.098493</td>\n",
       "      <td>0.185654</td>\n",
       "      <td>0.191550</td>\n",
       "    </tr>\n",
       "  </tbody>\n",
       "</table>\n",
       "<p>251 rows × 6 columns</p>\n",
       "</div>"
      ],
      "text/plain": [
       "           Date    Return  Direction  Sentiment     3-day     5-day\n",
       "0    2021-10-01  0.011884          1   0.310880       NaN       NaN\n",
       "1    2021-10-04 -0.012896          0   0.019805  0.257885  0.279076\n",
       "2    2021-10-05  0.010405          1   0.108379  0.154220  0.238583\n",
       "3    2021-10-06  0.004156          1   0.234439  0.120874  0.223295\n",
       "4    2021-10-07  0.008646          1   0.305370  0.216062  0.200494\n",
       "..          ...       ...        ...        ...       ...       ...\n",
       "246  2022-09-23 -0.016755          0   0.239017  0.224488  0.220510\n",
       "247  2022-09-26 -0.009893          0   0.204958  0.248042  0.243523\n",
       "248  2022-09-27 -0.002553          0   0.243141  0.214644  0.245257\n",
       "249  2022-09-28  0.019676          1   0.215326  0.221142  0.240519\n",
       "250  2022-09-29 -0.020889          0   0.098493  0.185654  0.191550\n",
       "\n",
       "[251 rows x 6 columns]"
      ]
     },
     "execution_count": 9,
     "metadata": {},
     "output_type": "execute_result"
    }
   ],
   "source": [
    "merged"
   ]
  },
  {
   "cell_type": "markdown",
   "id": "8732d911",
   "metadata": {},
   "source": [
    "### Analysis"
   ]
  },
  {
   "cell_type": "code",
   "execution_count": 10,
   "id": "024f5235",
   "metadata": {},
   "outputs": [],
   "source": [
    "from sklearn.linear_model import LinearRegression, LogisticRegression\n",
    "from sklearn.metrics import accuracy_score, roc_auc_score\n",
    "from scipy.stats import pearsonr"
   ]
  },
  {
   "cell_type": "code",
   "execution_count": 11,
   "id": "83a43491",
   "metadata": {},
   "outputs": [],
   "source": [
    "results = []\n",
    "\n",
    "for col in ['Sentiment', '3-day', '5-day']:\n",
    "    df = merged.dropna(subset=[col, 'Return', 'Direction'])\n",
    "    \n",
    "    # 3.1 Pearson Correlation\n",
    "    corr, p_val = pearsonr(df[col], df['Return'])\n",
    "    \n",
    "    # 3.2 Lienar Regression\n",
    "    lin_model = LinearRegression()\n",
    "    lin_model.fit(df[[col]], df['Return'])\n",
    "    beta_lin = lin_model.coef_[0]\n",
    "    alpha_lin = lin_model.intercept_\n",
    "    \n",
    "    # 3.3 Logistic Regression\n",
    "    log_model = LogisticRegression()\n",
    "    log_model.fit(df[[col]], df['Direction'])\n",
    "    beta_log = log_model.coef_[0][0]\n",
    "    alpha_log = log_model.intercept_[0]\n",
    "    \n",
    "    preds = log_model.predict(df[[col]])\n",
    "    probs = log_model.predict_proba(df[[col]])[:,1]\n",
    "    acc = accuracy_score(df['Direction'], preds)\n",
    "    auc = roc_auc_score(df['Direction'], probs)\n",
    "    \n",
    "    # store everything\n",
    "    results.append({\n",
    "        \"Sentiment_Window\": col,\n",
    "        \"Correlation_r\": corr,\n",
    "        \"Correlation_p\": p_val,\n",
    "        \"Linear_Beta\": beta_lin,\n",
    "        \"Linear_Intercept\": alpha_lin,\n",
    "        \"Logistic_Beta\": beta_log,\n",
    "        \"Logistic_Intercept\": alpha_log,\n",
    "        \"Accuracy\": acc,\n",
    "        \"AUC\": auc\n",
    "    })\n",
    "    \n",
    "results_df = pd.DataFrame(results)"
   ]
  },
  {
   "cell_type": "code",
   "execution_count": 12,
   "id": "65173725",
   "metadata": {},
   "outputs": [
    {
     "data": {
      "text/html": [
       "<div>\n",
       "<style scoped>\n",
       "    .dataframe tbody tr th:only-of-type {\n",
       "        vertical-align: middle;\n",
       "    }\n",
       "\n",
       "    .dataframe tbody tr th {\n",
       "        vertical-align: top;\n",
       "    }\n",
       "\n",
       "    .dataframe thead th {\n",
       "        text-align: right;\n",
       "    }\n",
       "</style>\n",
       "<table border=\"1\" class=\"dataframe\">\n",
       "  <thead>\n",
       "    <tr style=\"text-align: right;\">\n",
       "      <th></th>\n",
       "      <th>Sentiment_Window</th>\n",
       "      <th>Correlation_r</th>\n",
       "      <th>Correlation_p</th>\n",
       "      <th>Linear_Beta</th>\n",
       "      <th>Linear_Intercept</th>\n",
       "      <th>Logistic_Beta</th>\n",
       "      <th>Logistic_Intercept</th>\n",
       "      <th>Accuracy</th>\n",
       "      <th>AUC</th>\n",
       "    </tr>\n",
       "  </thead>\n",
       "  <tbody>\n",
       "    <tr>\n",
       "      <th>0</th>\n",
       "      <td>Sentiment</td>\n",
       "      <td>0.299356</td>\n",
       "      <td>0.000001</td>\n",
       "      <td>0.051431</td>\n",
       "      <td>-0.012174</td>\n",
       "      <td>1.417425</td>\n",
       "      <td>-0.361369</td>\n",
       "      <td>0.545817</td>\n",
       "      <td>0.601944</td>\n",
       "    </tr>\n",
       "    <tr>\n",
       "      <th>1</th>\n",
       "      <td>3-day</td>\n",
       "      <td>0.088005</td>\n",
       "      <td>0.165381</td>\n",
       "      <td>0.020213</td>\n",
       "      <td>-0.005264</td>\n",
       "      <td>0.291624</td>\n",
       "      <td>-0.115944</td>\n",
       "      <td>0.516000</td>\n",
       "      <td>0.528753</td>\n",
       "    </tr>\n",
       "    <tr>\n",
       "      <th>2</th>\n",
       "      <td>5-day</td>\n",
       "      <td>0.090318</td>\n",
       "      <td>0.154500</td>\n",
       "      <td>0.023429</td>\n",
       "      <td>-0.006143</td>\n",
       "      <td>0.269796</td>\n",
       "      <td>-0.112304</td>\n",
       "      <td>0.512000</td>\n",
       "      <td>0.529073</td>\n",
       "    </tr>\n",
       "  </tbody>\n",
       "</table>\n",
       "</div>"
      ],
      "text/plain": [
       "  Sentiment_Window  Correlation_r  Correlation_p  Linear_Beta  \\\n",
       "0        Sentiment       0.299356       0.000001     0.051431   \n",
       "1            3-day       0.088005       0.165381     0.020213   \n",
       "2            5-day       0.090318       0.154500     0.023429   \n",
       "\n",
       "   Linear_Intercept  Logistic_Beta  Logistic_Intercept  Accuracy       AUC  \n",
       "0         -0.012174       1.417425           -0.361369  0.545817  0.601944  \n",
       "1         -0.005264       0.291624           -0.115944  0.516000  0.528753  \n",
       "2         -0.006143       0.269796           -0.112304  0.512000  0.529073  "
      ]
     },
     "execution_count": 12,
     "metadata": {},
     "output_type": "execute_result"
    }
   ],
   "source": [
    "results_df"
   ]
  },
  {
   "cell_type": "code",
   "execution_count": 13,
   "id": "ba0d2e94",
   "metadata": {},
   "outputs": [],
   "source": [
    "results_df.to_csv('market_direction_results', index=False)"
   ]
  },
  {
   "cell_type": "code",
   "execution_count": 14,
   "id": "982cc9d2",
   "metadata": {},
   "outputs": [
    {
     "data": {
      "text/plain": [
       "'| Sentiment_Window   |   Correlation_r |   Correlation_p |   Linear_Beta |   Linear_Intercept |   Logistic_Beta |   Logistic_Intercept |   Accuracy |      AUC |\\n|:-------------------|----------------:|----------------:|--------------:|-------------------:|----------------:|---------------------:|-----------:|---------:|\\n| Sentiment          |       0.299356  |     1.36364e-06 |     0.0514315 |        -0.0121737  |        1.41742  |            -0.361369 |   0.545817 | 0.601944 |\\n| 3-day              |       0.088005  |     0.165381    |     0.0202131 |        -0.00526394 |        0.291624 |            -0.115944 |   0.516    | 0.528753 |\\n| 5-day              |       0.0903185 |     0.1545      |     0.023429  |        -0.00614271 |        0.269796 |            -0.112304 |   0.512    | 0.529073 |'"
      ]
     },
     "execution_count": 14,
     "metadata": {},
     "output_type": "execute_result"
    }
   ],
   "source": [
    "results_df.to_markdown(index=False)"
   ]
  },
  {
   "cell_type": "code",
   "execution_count": null,
   "id": "f423aa6c",
   "metadata": {},
   "outputs": [],
   "source": []
  }
 ],
 "metadata": {
  "kernelspec": {
   "display_name": "venv",
   "language": "python",
   "name": "python3"
  },
  "language_info": {
   "codemirror_mode": {
    "name": "ipython",
    "version": 3
   },
   "file_extension": ".py",
   "mimetype": "text/x-python",
   "name": "python",
   "nbconvert_exporter": "python",
   "pygments_lexer": "ipython3",
   "version": "3.13.0"
  }
 },
 "nbformat": 4,
 "nbformat_minor": 5
}
